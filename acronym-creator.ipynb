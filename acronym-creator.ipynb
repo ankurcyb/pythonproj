{
 "cells": [
  {
   "cell_type": "code",
   "execution_count": 1,
   "id": "05615294",
   "metadata": {
    "_cell_guid": "b1076dfc-b9ad-4769-8c92-a6c4dae69d19",
    "_uuid": "8f2839f25d086af736a60e9eeb907d3b93b6e0e5",
    "execution": {
     "iopub.execute_input": "2023-10-19T13:59:03.040676Z",
     "iopub.status.busy": "2023-10-19T13:59:03.039081Z",
     "iopub.status.idle": "2023-10-19T13:59:03.050858Z",
     "shell.execute_reply": "2023-10-19T13:59:03.050099Z"
    },
    "papermill": {
     "duration": 0.018166,
     "end_time": "2023-10-19T13:59:03.053639",
     "exception": false,
     "start_time": "2023-10-19T13:59:03.035473",
     "status": "completed"
    },
    "tags": []
   },
   "outputs": [
    {
     "name": "stdout",
     "output_type": "stream",
     "text": [
      "CASFA\n"
     ]
    }
   ],
   "source": [
    "def acronym(sentence):\n",
    "    acr = \"\"\n",
    "    i = sentence.split()\n",
    "    for i in i:\n",
    "        acr += i[0].upper()\n",
    "    return acr\n",
    "user_input = \"Creating a Sentence for Acronym\"\n",
    "output = acronym(user_input)\n",
    "print(output)"
   ]
  },
  {
   "cell_type": "code",
   "execution_count": null,
   "id": "33a3c128",
   "metadata": {
    "papermill": {
     "duration": 0.00527,
     "end_time": "2023-10-19T13:59:03.060714",
     "exception": false,
     "start_time": "2023-10-19T13:59:03.055444",
     "status": "completed"
    },
    "tags": []
   },
   "outputs": [],
   "source": []
  }
 ],
 "metadata": {
  "kernelspec": {
   "display_name": "Python 3",
   "language": "python",
   "name": "python3"
  },
  "language_info": {
   "codemirror_mode": {
    "name": "ipython",
    "version": 3
   },
   "file_extension": ".py",
   "mimetype": "text/x-python",
   "name": "python",
   "nbconvert_exporter": "python",
   "pygments_lexer": "ipython3",
   "version": "3.10.12"
  },
  "papermill": {
   "default_parameters": {},
   "duration": 3.741275,
   "end_time": "2023-10-19T13:59:03.483013",
   "environment_variables": {},
   "exception": null,
   "input_path": "__notebook__.ipynb",
   "output_path": "__notebook__.ipynb",
   "parameters": {},
   "start_time": "2023-10-19T13:58:59.741738",
   "version": "2.4.0"
  }
 },
 "nbformat": 4,
 "nbformat_minor": 5
}
